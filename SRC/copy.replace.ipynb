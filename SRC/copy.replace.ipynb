{
 "cells": [
  {
   "cell_type": "code",
   "id": "initial_id",
   "metadata": {
    "collapsed": true
   },
   "source": [
    "# Измененная копия\n",
    "# В Python 3.13 добавлена функция copy.replace(), которая позволяет создавать модифицированную\n",
    "# копию неизменяемого объекта вроде кортежей, экземпляров datetime, и прочего (документация):\n",
    "\n",
    "import copy\n",
    "\n",
    "my_tuple = (1, 2, 3)\n",
    "tuple_cp = copy.replace(my_tuple, my_tuple[1] = 4)\n",
    "\n",
    "\n",
    "# tuple_cp = copy.replace (my_tuple, my_tuple[1] = 4) # Обновим значение второго элемента\n"
   ],
   "outputs": [],
   "execution_count": null
  },
  {
   "metadata": {},
   "cell_type": "markdown",
   "source": "",
   "id": "bd8846f2965a6e7a"
  },
  {
   "metadata": {
    "ExecuteTime": {
     "end_time": "2025-06-04T07:23:35.946115Z",
     "start_time": "2025-06-04T07:23:35.942920Z"
    }
   },
   "cell_type": "code",
   "source": [
    "my_tuple = (1, 2, 3)\n",
    "\n",
    "# Заменим второй элемент (индекс 1) на 4\n",
    "new_tuple = my_tuple[:1] + (4,) + my_tuple[2:]\n",
    "\n",
    "print(new_tuple)"
   ],
   "id": "9d95f61eff0d3c28",
   "outputs": [
    {
     "name": "stdout",
     "output_type": "stream",
     "text": [
      "(1, 4, 3)\n"
     ]
    }
   ],
   "execution_count": 13
  }
 ],
 "metadata": {
  "kernelspec": {
   "display_name": "Python 3",
   "language": "python",
   "name": "python3"
  },
  "language_info": {
   "codemirror_mode": {
    "name": "ipython",
    "version": 2
   },
   "file_extension": ".py",
   "mimetype": "text/x-python",
   "name": "python",
   "nbconvert_exporter": "python",
   "pygments_lexer": "ipython2",
   "version": "2.7.6"
  }
 },
 "nbformat": 4,
 "nbformat_minor": 5
}
