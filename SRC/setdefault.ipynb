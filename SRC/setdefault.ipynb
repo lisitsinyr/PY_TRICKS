{
 "cells": [
  {
   "cell_type": "code",
   "execution_count": null,
   "id": "initial_id",
   "metadata": {
    "collapsed": true
   },
   "outputs": [],
   "source": [
    "my_dict = {}\n",
    "\n",
    "\n",
    "def update(key, nested_key, nested_value):\n",
    "    if key not in my_dict:\n",
    "        my_dict[key] = {}\n",
    "\n",
    "    my_dict[key][nested_key] = nested_value"
   ]
  },
  {
   "metadata": {},
   "cell_type": "code",
   "outputs": [],
   "execution_count": null,
   "source": [
    "my_dict = {}\n",
    "\n",
    "def update(key, nested_key, nested_value):\n",
    "    my_dict.setdefault(key, {})\n",
    "    \n",
    "    my_dict[key][nested_key] = nested_value\n",
    "\n",
    "# SetDefault фактически возвращает значение с указанным вами ключом.\n",
    "# Только если ключа отсутствует, он вставляет ключ (и значение).\n",
    "\n"
   ],
   "id": "a20ac66801e369db"
  },
  {
   "metadata": {},
   "cell_type": "code",
   "outputs": [],
   "execution_count": null,
   "source": [
    "# setdefault() для заполнения словаря\n",
    "\n",
    "# Лаконичный и более эффективный с точки зрения памяти способ — setdefault():\n",
    "text = \"Сегодня первое апреля. У нас до сих пор холодно.\"\n",
    "counts = {}\n",
    "for word in text.split():\n",
    "    counts.setdefault(word, 0)\n",
    "    counts[word] += 1\n"
   ],
   "id": "534f3352826030fd"
  }
 ],
 "metadata": {
  "kernelspec": {
   "display_name": "Python 3",
   "language": "python",
   "name": "python3"
  },
  "language_info": {
   "codemirror_mode": {
    "name": "ipython",
    "version": 2
   },
   "file_extension": ".py",
   "mimetype": "text/x-python",
   "name": "python",
   "nbconvert_exporter": "python",
   "pygments_lexer": "ipython2",
   "version": "2.7.6"
  }
 },
 "nbformat": 4,
 "nbformat_minor": 5
}
