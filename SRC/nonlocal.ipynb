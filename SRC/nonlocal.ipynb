{
 "cells": [
  {
   "cell_type": "code",
   "id": "initial_id",
   "metadata": {
    "collapsed": true,
    "ExecuteTime": {
     "end_time": "2025-06-04T03:11:39.643565Z",
     "start_time": "2025-06-04T03:11:39.640017Z"
    }
   },
   "source": [
    "def a():\n",
    "  a_var = {\"foo\":1,}\n",
    "  def inner():\n",
    "    # nonlocal a_var\n",
    "    print(a_var)\n",
    "    a_var[\"foo\"] = 3\n",
    "  for _ in range(3):\n",
    "    inner()\n",
    "\n",
    "a()"
   ],
   "outputs": [
    {
     "name": "stdout",
     "output_type": "stream",
     "text": [
      "{'foo': 1}\n",
      "{'foo': 3}\n",
      "{'foo': 3}\n"
     ]
    }
   ],
   "execution_count": 12
  },
  {
   "metadata": {},
   "cell_type": "code",
   "source": [
    "def b():\n",
    "  b_var = 3\n",
    "  def inner():\n",
    "    print(b_var)\n",
    "    b_var = 3\n",
    "  for _ in range(3):\n",
    "    inner()\n",
    "\n",
    "b()"
   ],
   "id": "7dd6a62689ec8efd",
   "outputs": [],
   "execution_count": null
  },
  {
   "metadata": {
    "ExecuteTime": {
     "end_time": "2025-06-04T03:09:19.369633Z",
     "start_time": "2025-06-04T03:09:19.366457Z"
    }
   },
   "cell_type": "code",
   "source": [
    "def b():\n",
    "  b_var = 3\n",
    "  def inner():\n",
    "    nonlocal b_var\n",
    "    print(b_var)\n",
    "    b_var = 3\n",
    "  for _ in range(5):\n",
    "    inner()\n",
    "\n",
    "b()"
   ],
   "id": "bcd56f2c217ed102",
   "outputs": [
    {
     "name": "stdout",
     "output_type": "stream",
     "text": [
      "3\n",
      "3\n",
      "3\n",
      "3\n",
      "3\n"
     ]
    }
   ],
   "execution_count": 8
  }
 ],
 "metadata": {
  "kernelspec": {
   "display_name": "Python 3",
   "language": "python",
   "name": "python3"
  },
  "language_info": {
   "codemirror_mode": {
    "name": "ipython",
    "version": 2
   },
   "file_extension": ".py",
   "mimetype": "text/x-python",
   "name": "python",
   "nbconvert_exporter": "python",
   "pygments_lexer": "ipython2",
   "version": "2.7.6"
  }
 },
 "nbformat": 4,
 "nbformat_minor": 5
}
