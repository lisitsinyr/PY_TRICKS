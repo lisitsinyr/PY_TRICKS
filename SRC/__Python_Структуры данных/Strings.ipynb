{
 "cells": [
  {
   "cell_type": "code",
   "id": "initial_id",
   "metadata": {
    "collapsed": true,
    "ExecuteTime": {
     "end_time": "2025-06-07T09:53:43.385810Z",
     "start_time": "2025-06-07T09:53:43.382184Z"
    }
   },
   "source": [
    "import datetime\n",
    "today = datetime.datetime.today()\n",
    "file_media = 'video_'+f'{today:%Y-%m-%d_%H-%M-%S}'+'.mp4'\n",
    "print(file_media)"
   ],
   "outputs": [
    {
     "name": "stdout",
     "output_type": "stream",
     "text": [
      "video_2025-06-07_13-53-43.mp4\n"
     ]
    }
   ],
   "execution_count": 3
  }
 ],
 "metadata": {
  "kernelspec": {
   "display_name": "Python 3",
   "language": "python",
   "name": "python3"
  },
  "language_info": {
   "codemirror_mode": {
    "name": "ipython",
    "version": 2
   },
   "file_extension": ".py",
   "mimetype": "text/x-python",
   "name": "python",
   "nbconvert_exporter": "python",
   "pygments_lexer": "ipython2",
   "version": "2.7.6"
  }
 },
 "nbformat": 4,
 "nbformat_minor": 5
}
